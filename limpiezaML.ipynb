{
 "cells": [
  {
   "cell_type": "code",
   "execution_count": 1,
   "metadata": {},
   "outputs": [
    {
     "name": "stdout",
     "output_type": "stream",
     "text": [
      "****Columnas despues de la limpieza y trasformacion de datos****\n",
      "  animal_id         datetime_obj   \n",
      "0   A786884  2019-01-03 16:19:00  \\\n",
      "1   A706918  2015-07-05 12:59:00   \n",
      "2   A682524  2014-06-29 10:38:00   \n",
      "3   A823407  2020-09-23 10:49:00   \n",
      "4   A823407  2020-09-23 10:49:00   \n",
      "\n",
      "                                      found_location intake_type   \n",
      "0                2501 Magin Meadow Dr in Austin (TX)       Stray  \\\n",
      "1                   9409 Bluegrass Dr in Austin (TX)       Stray   \n",
      "2                      800 Grove Blvd in Austin (TX)       Stray   \n",
      "3  Rosewood Avenue And Poquito Street in Austin (TX)       Stray   \n",
      "4  Rosewood Avenue And Poquito Street in Austin (TX)       Stray   \n",
      "\n",
      "  intake_condition animal_type sex_upon_intake age_upon_intake   \n",
      "0           Normal         Dog   Neutered Male         2 years  \\\n",
      "1           Normal         Dog   Spayed Female         8 years   \n",
      "2           Normal         Dog   Neutered Male         4 years   \n",
      "3           Normal         Cat   Intact Female        4 months   \n",
      "4           Normal         Cat   Intact Female        4 months   \n",
      "\n",
      "                                   breed        color animal_id.1   \n",
      "0                             Beagle Mix     Tricolor     A786884  \\\n",
      "1               English Springer Spaniel  White/Liver     A706918   \n",
      "2  Doberman Pinsch/Australian Cattle Dog     Tan/Gray     A682524   \n",
      "3                     Domestic Shorthair  Brown Tabby     A823407   \n",
      "4                     Domestic Shorthair  Brown Tabby     A823407   \n",
      "\n",
      "        datetime_obj.1     outcome_type animal_type.1 sex_upon_outcome   \n",
      "0  2019-01-08 15:11:00         Transfer           Dog    Neutered Male  \\\n",
      "1  2015-07-05 15:13:00  Return to Owner           Dog    Spayed Female   \n",
      "2  2014-07-02 14:16:00  Return to Owner           Dog    Neutered Male   \n",
      "3  2023-12-17 15:49:00  Return to Owner           Cat    Spayed Female   \n",
      "4  2021-01-16 12:27:00         Adoption           Cat    Spayed Female   \n",
      "\n",
      "  age_upon_outcome                                breed.1      color.1   \n",
      "0          2 years                             Beagle Mix     Tricolor  \\\n",
      "1          8 years               English Springer Spaniel  White/Liver   \n",
      "2          4 years  Doberman Pinsch/Australian Cattle Dog     Tan/Gray   \n",
      "3          3 years                     Domestic Shorthair  Brown Tabby   \n",
      "4         8 months                     Domestic Shorthair  Brown Tabby   \n",
      "\n",
      "   adopted  \n",
      "0        0  \n",
      "1        1  \n",
      "2        1  \n",
      "3        1  \n",
      "4        1  \n"
     ]
    }
   ],
   "source": [
    "import pandas as pd\n",
    "from sklearn.preprocessing import LabelEncoder\n",
    "import category_encoders as ce\n",
    "\n",
    "data = pd.read_csv('C:/Users/Lucas/Documents/Programacion/NoCountry/dbcompleta.csv')\n",
    "\n",
    "# map outcome_types  0 or 1\n",
    "def map_adopted(outcome_type):\n",
    "    if outcome_type in ['Adoption', 'Return to Owner', 'Rto-Adopt']:\n",
    "        return 1\n",
    "    else:\n",
    "        return 0\n",
    "\n",
    "# Create the 'adopted' column based on the conditions\n",
    "data['adopted'] = data['outcome_type'].apply(lambda x: map_adopted(x))\n",
    "\n",
    "print (f\"****Columnas despues de la limpieza y trasformacion de datos****\")\n",
    "print(data.head())\n",
    "\n"
   ]
  },
  {
   "cell_type": "code",
   "execution_count": 2,
   "metadata": {},
   "outputs": [],
   "source": [
    "\n",
    "\n",
    "# Elimina las columnas especificadas\n",
    "columns_to_drop = ['animal_id', 'animal_id','age_upon_intake', 'age_upon_outcome', 'animal_type.1','found_location','animal_id.1','color.1', 'breed.1', 'datetime_obj', 'datetime_obj.1', 'outcome_type']\n",
    "data.drop(columns=columns_to_drop, inplace=True)\n",
    "\n"
   ]
  },
  {
   "cell_type": "code",
   "execution_count": 3,
   "metadata": {},
   "outputs": [],
   "source": [
    "# Separa la columna sex_upon_intake en sex y reprod.\n",
    "data[['sex_intake', 'reprod_intake']] = data['sex_upon_intake'].str.split(' ', expand=True)\n",
    "\n",
    "# Separa la columna sex_upon_outcome en sex y reprod.\n",
    "data[['sex_outcome', 'reprod_outcome']] = data['sex_upon_outcome'].str.split(' ', expand=True)\n",
    "\n",
    "\n",
    "# Elimina las columnas sobrantes\n",
    "data.drop(columns=['sex_upon_intake', 'sex_upon_outcome', 'sex_outcome', 'sex_intake' ], inplace=True)\n",
    "\n",
    "\n"
   ]
  },
  {
   "cell_type": "code",
   "execution_count": 4,
   "metadata": {},
   "outputs": [],
   "source": [
    "# Identificar las filas donde reprod_intake tiene un valor y reprod_outcome está vacío\n",
    "mask_intake_empty_outcome = data['reprod_intake'].notnull() & data['reprod_outcome'].isnull()\n",
    "\n",
    "# Llenar reprod_outcome con el valor de reprod_intake donde corresponda\n",
    "data.loc[mask_intake_empty_outcome, 'reprod_outcome'] = data.loc[mask_intake_empty_outcome, 'reprod_intake']\n",
    "\n",
    "# Identificar las filas donde reprod_outcome tiene un valor y reprod_intake está vacío\n",
    "mask_outcome_empty_intake = data['reprod_outcome'].notnull() & data['reprod_intake'].isnull()\n",
    "\n",
    "# Llenar reprod_intake con el valor de reprod_outcome donde corresponda\n",
    "data.loc[mask_outcome_empty_intake, 'reprod_intake'] = data.loc[mask_outcome_empty_intake, 'reprod_outcome']\n"
   ]
  },
  {
   "cell_type": "code",
   "execution_count": 5,
   "metadata": {},
   "outputs": [
    {
     "name": "stdout",
     "output_type": "stream",
     "text": [
      "Conteo de valores en la columna 'sex_intake':\n",
      "reprod_intake\n",
      "Male      103251\n",
      "Female     89952\n",
      "Name: count, dtype: int64\n",
      "\n",
      "Conteo de valores en la columna 'sex_outcome':\n",
      "reprod_outcome\n",
      "Male      103251\n",
      "Female     89952\n",
      "Name: count, dtype: int64\n"
     ]
    }
   ],
   "source": [
    "\n",
    "# Contar los valores en la columna 'sex_intake'\n",
    "sex_intake_counts = data['reprod_intake'].value_counts()\n",
    "\n",
    "# Contar los valores en la columna 'sex_outcome'\n",
    "sex_outcome_counts = data['reprod_outcome'].value_counts()\n",
    "\n",
    "# Mostrar los resultados\n",
    "print(\"Conteo de valores en la columna 'sex_intake':\")\n",
    "print(sex_intake_counts)\n",
    "\n",
    "print(\"\\nConteo de valores en la columna 'sex_outcome':\")\n",
    "print(sex_outcome_counts)\n"
   ]
  },
  {
   "cell_type": "code",
   "execution_count": 6,
   "metadata": {},
   "outputs": [],
   "source": [
    "data.drop(columns=['reprod_intake' ], inplace=True)"
   ]
  },
  {
   "cell_type": "code",
   "execution_count": 7,
   "metadata": {},
   "outputs": [],
   "source": [
    "import numpy as np\n",
    "\n",
    "# Contar el número de valores Male y Female en la columna reprod_outcome\n",
    "male_count = data['reprod_outcome'].value_counts().get('Male', 0)\n",
    "female_count = data['reprod_outcome'].value_counts().get('Female', 0)\n",
    "\n",
    "# Calcular la cantidad de valores a llenar con Male y Female para mantener una proporción del 50%\n",
    "total_null_values = data['reprod_outcome'].isnull().sum()\n",
    "male_to_fill = int(total_null_values / 2)\n",
    "female_to_fill = total_null_values - male_to_fill\n",
    "\n",
    "# Crear un array con valores Male y Female de acuerdo a la proporción\n",
    "values_to_fill = np.array(['Male'] * male_to_fill + ['Female'] * female_to_fill)\n",
    "\n",
    "# Llenar valores vacíos de forma aleatoria con Male o Female\n",
    "np.random.shuffle(values_to_fill)\n",
    "data.loc[data['reprod_outcome'].isnull(), 'reprod_outcome'] = values_to_fill\n"
   ]
  },
  {
   "cell_type": "code",
   "execution_count": 8,
   "metadata": {},
   "outputs": [
    {
     "name": "stdout",
     "output_type": "stream",
     "text": [
      "\n",
      "Conteo de valores en la columna 'sex_outcome':\n",
      "reprod_outcome\n",
      "Male      109468\n",
      "Female     96169\n",
      "Name: count, dtype: int64\n"
     ]
    }
   ],
   "source": [
    "# Contar los valores en la columna 'sex_outcome'\n",
    "sex_outcome_counts = data['reprod_outcome'].value_counts()\n",
    "print(\"\\nConteo de valores en la columna 'sex_outcome':\")\n",
    "print(sex_outcome_counts)"
   ]
  },
  {
   "cell_type": "code",
   "execution_count": 9,
   "metadata": {},
   "outputs": [
    {
     "name": "stdout",
     "output_type": "stream",
     "text": [
      "<class 'pandas.core.frame.DataFrame'>\n",
      "RangeIndex: 205637 entries, 0 to 205636\n",
      "Data columns (total 7 columns):\n",
      " #   Column            Non-Null Count   Dtype \n",
      "---  ------            --------------   ----- \n",
      " 0   intake_type       204822 non-null  object\n",
      " 1   intake_condition  204822 non-null  object\n",
      " 2   animal_type       204822 non-null  object\n",
      " 3   breed             204822 non-null  object\n",
      " 4   color             204822 non-null  object\n",
      " 5   adopted           205637 non-null  int64 \n",
      " 6   reprod_outcome    205637 non-null  object\n",
      "dtypes: int64(1), object(6)\n",
      "memory usage: 11.0+ MB\n"
     ]
    }
   ],
   "source": [
    "data.info()"
   ]
  },
  {
   "cell_type": "code",
   "execution_count": 10,
   "metadata": {},
   "outputs": [],
   "source": [
    "# Eliminar las filas con valores nulos en cualquier columna\n",
    "data = data.dropna()\n",
    "\n"
   ]
  },
  {
   "cell_type": "code",
   "execution_count": 11,
   "metadata": {},
   "outputs": [
    {
     "name": "stdout",
     "output_type": "stream",
     "text": [
      "<class 'pandas.core.frame.DataFrame'>\n",
      "Index: 204822 entries, 0 to 205415\n",
      "Data columns (total 7 columns):\n",
      " #   Column            Non-Null Count   Dtype \n",
      "---  ------            --------------   ----- \n",
      " 0   intake_type       204822 non-null  object\n",
      " 1   intake_condition  204822 non-null  object\n",
      " 2   animal_type       204822 non-null  object\n",
      " 3   breed             204822 non-null  object\n",
      " 4   color             204822 non-null  object\n",
      " 5   adopted           204822 non-null  int64 \n",
      " 6   reprod_outcome    204822 non-null  object\n",
      "dtypes: int64(1), object(6)\n",
      "memory usage: 12.5+ MB\n"
     ]
    }
   ],
   "source": [
    "data.info()"
   ]
  },
  {
   "cell_type": "code",
   "execution_count": 12,
   "metadata": {},
   "outputs": [],
   "source": [
    "# Restablecer los índices en data_encoded\n",
    "data.reset_index(drop=True, inplace=True)"
   ]
  },
  {
   "cell_type": "code",
   "execution_count": 13,
   "metadata": {},
   "outputs": [
    {
     "name": "stdout",
     "output_type": "stream",
     "text": [
      "<class 'pandas.core.frame.DataFrame'>\n",
      "RangeIndex: 204822 entries, 0 to 204821\n",
      "Data columns (total 7 columns):\n",
      " #   Column            Non-Null Count   Dtype \n",
      "---  ------            --------------   ----- \n",
      " 0   intake_type       204822 non-null  object\n",
      " 1   intake_condition  204822 non-null  object\n",
      " 2   animal_type       204822 non-null  object\n",
      " 3   breed             204822 non-null  object\n",
      " 4   color             204822 non-null  object\n",
      " 5   adopted           204822 non-null  int64 \n",
      " 6   reprod_outcome    204822 non-null  object\n",
      "dtypes: int64(1), object(6)\n",
      "memory usage: 10.9+ MB\n"
     ]
    }
   ],
   "source": [
    "data.info()"
   ]
  },
  {
   "cell_type": "code",
   "execution_count": 14,
   "metadata": {},
   "outputs": [],
   "source": [
    "# Selección de las columnas categóricas a codificar\n",
    "categorical_cols = ['breed', 'color', 'animal_type', 'intake_condition', 'intake_type', 'reprod_outcome']\n",
    "\n",
    "# Crear un codificador BinaryEncoder\n",
    "encoder = ce.BinaryEncoder(cols=categorical_cols)\n",
    "\n",
    "# Aplicar el codificador y guardar los datos transformados en un nuevo DataFrame\n",
    "data_encoded = encoder.fit_transform(data)"
   ]
  },
  {
   "cell_type": "code",
   "execution_count": 15,
   "metadata": {},
   "outputs": [
    {
     "name": "stdout",
     "output_type": "stream",
     "text": [
      "<class 'pandas.core.frame.DataFrame'>\n",
      "RangeIndex: 204822 entries, 0 to 204821\n",
      "Data columns (total 36 columns):\n",
      " #   Column              Non-Null Count   Dtype\n",
      "---  ------              --------------   -----\n",
      " 0   intake_type_0       204822 non-null  int64\n",
      " 1   intake_type_1       204822 non-null  int64\n",
      " 2   intake_type_2       204822 non-null  int64\n",
      " 3   intake_condition_0  204822 non-null  int64\n",
      " 4   intake_condition_1  204822 non-null  int64\n",
      " 5   intake_condition_2  204822 non-null  int64\n",
      " 6   intake_condition_3  204822 non-null  int64\n",
      " 7   intake_condition_4  204822 non-null  int64\n",
      " 8   animal_type_0       204822 non-null  int64\n",
      " 9   animal_type_1       204822 non-null  int64\n",
      " 10  animal_type_2       204822 non-null  int64\n",
      " 11  breed_0             204822 non-null  int64\n",
      " 12  breed_1             204822 non-null  int64\n",
      " 13  breed_2             204822 non-null  int64\n",
      " 14  breed_3             204822 non-null  int64\n",
      " 15  breed_4             204822 non-null  int64\n",
      " 16  breed_5             204822 non-null  int64\n",
      " 17  breed_6             204822 non-null  int64\n",
      " 18  breed_7             204822 non-null  int64\n",
      " 19  breed_8             204822 non-null  int64\n",
      " 20  breed_9             204822 non-null  int64\n",
      " 21  breed_10            204822 non-null  int64\n",
      " 22  breed_11            204822 non-null  int64\n",
      " 23  color_0             204822 non-null  int64\n",
      " 24  color_1             204822 non-null  int64\n",
      " 25  color_2             204822 non-null  int64\n",
      " 26  color_3             204822 non-null  int64\n",
      " 27  color_4             204822 non-null  int64\n",
      " 28  color_5             204822 non-null  int64\n",
      " 29  color_6             204822 non-null  int64\n",
      " 30  color_7             204822 non-null  int64\n",
      " 31  color_8             204822 non-null  int64\n",
      " 32  color_9             204822 non-null  int64\n",
      " 33  adopted             204822 non-null  int64\n",
      " 34  reprod_outcome_0    204822 non-null  int64\n",
      " 35  reprod_outcome_1    204822 non-null  int64\n",
      "dtypes: int64(36)\n",
      "memory usage: 56.3 MB\n"
     ]
    }
   ],
   "source": [
    "data_encoded.info()"
   ]
  },
  {
   "cell_type": "code",
   "execution_count": 16,
   "metadata": {},
   "outputs": [],
   "source": [
    "# Guarda el DataFrame resultante en un nuevo archivo CSV\n",
    "data_encoded.to_csv('data.csv', index=False)"
   ]
  }
 ],
 "metadata": {
  "kernelspec": {
   "display_name": "Python 3",
   "language": "python",
   "name": "python3"
  },
  "language_info": {
   "codemirror_mode": {
    "name": "ipython",
    "version": 3
   },
   "file_extension": ".py",
   "mimetype": "text/x-python",
   "name": "python",
   "nbconvert_exporter": "python",
   "pygments_lexer": "ipython3",
   "version": "3.11.3"
  }
 },
 "nbformat": 4,
 "nbformat_minor": 2
}
