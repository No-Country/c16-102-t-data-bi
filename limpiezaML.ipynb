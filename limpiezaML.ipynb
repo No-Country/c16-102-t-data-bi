!pip install category_encoders

from google.colab import drive
drive.mount('/content/drive')

import pandas as pd
from sklearn.preprocessing import LabelEncoder
import category_encoders as ce

data = pd.read_csv('/content/dbcompleta.csv')

print (f"****Columnas antes de la limpieza y trasformacion de datos****")
print(data.head())

# Elimina las columnas especificadas
columns_to_drop = ['animal_id','age_upon_intake', 'age_upon_outcome', 'animal_type.1','found_location','animal_id.1','color.1', 'breed.1', 'datetime_obj', 'datetime_obj.1' ]
data.drop(columns=columns_to_drop, inplace=True)

# Separa la columna sex_upon_intake en sex y reprod.
data[['sex_intake', 'reprod_intake']] = data['sex_upon_intake'].str.split(' ', expand=True)

# Separa la columna sex_upon_outcome en sex y reprod.
data[['sex_outcome', 'reprod_outcome']] = data['sex_upon_outcome'].str.split(' ', expand=True)

# Elimina las columnas sobrantes
data.drop(columns=['sex_upon_intake', 'sex_upon_outcome', 'sex_outcome', 'sex_intake' ], inplace=True)

# Identificar las filas donde reprod_intake tiene un valor y reprod_outcome está vacío
mask_intake_empty_outcome = data['reprod_intake'].notnull() & data['reprod_outcome'].isnull()

# Llenar reprod_outcome con el valor de reprod_intake donde corresponda
data.loc[mask_intake_empty_outcome, 'reprod_outcome'] = data.loc[mask_intake_empty_outcome, 'reprod_intake']

# Identificar las filas donde reprod_outcome tiene un valor y reprod_intake está vacío
mask_outcome_empty_intake = data['reprod_outcome'].notnull() & data['reprod_intake'].isnull()

# Llenar reprod_intake con el valor de reprod_outcome donde corresponda
data.loc[mask_outcome_empty_intake, 'reprod_intake'] = data.loc[mask_outcome_empty_intake, 'reprod_outcome']

data.drop(columns=['reprod_intake' ], inplace=True)
import numpy as np

# Contar el número de valores Male y Female en la columna reprod_outcome
male_count = data['reprod_outcome'].value_counts().get('Male', 0)
female_count = data['reprod_outcome'].value_counts().get('Female', 0)

# Calcular la cantidad de valores a llenar con Male y Female para mantener una proporción del 50%
total_null_values = data['reprod_outcome'].isnull().sum()
male_to_fill = int(total_null_values / 2)
female_to_fill = total_null_values - male_to_fill

# Crear un array con valores Male y Female de acuerdo a la proporción
values_to_fill = np.array(['Male'] * male_to_fill + ['Female'] * female_to_fill)

# Llenar valores vacíos de forma aleatoria con Male o Female
np.random.shuffle(values_to_fill)
data.loc[data['reprod_outcome'].isnull(), 'reprod_outcome'] = values_to_fill


# Selección de las columnas categóricas a codificar
categorical_cols = ['outcome_type', 'animal_type', 'intake_condition', 'intake_type','sex_outcome', 'reprod_outcome', 'sex_intake', 'reprod_intake']
# Eliminar las filas con valores nulos en cualquier columna
data = data.dropna()

# Selección de las columnas categóricas a codificar
categorical_cols = ['breed', 'color', 'animal_type', 'intake_condition', 'intake_type', 'reprod_outcome']

# Crear un codificador BinaryEncoder
encoder = ce.BinaryEncoder(cols=categorical_cols)

# Aplicar el codificador y guardar los datos transformados en un nuevo DataFrame
data_encoded = encoder.fit_transform(data)


# valores nulos en las columnas color y breed y Rellena con 'other'
null_color = data[data['color'].isnull()]
data['color'].fillna('other', inplace=True)

null_breed = data[data['breed'].isnull()]
data['breed'].fillna('other', inplace=True)# Reemplaza '/' con un espacio en blanco en las columnas color y breed
data['color'] = data['color'].str.replace('/', ' ')
data['breed'] = data['breed'].str.replace('/', ' ')

# Divide las columnas color y breed en el primer espacio
split_color = data['color'].str.split(n=1, expand=True)
split_breed = data['breed'].str.split(n=1, expand=True)

# Asigna las partes divididas a las columnas correspondientes
data['color'] = split_color[0]
data['color1'] = split_color[1] if len(split_color.columns) > 1 else None
data['breed'] = split_breed[0]
data['breed1'] = split_breed[1] if len(split_breed.columns) > 1 else None

print(data.head)

# map outcome_types  0 or 1
def map_adopted(outcome_type):
    if outcome_type in ['Adoption', 'Return to Owner', 'Rto-Adopt']:
        return 1
    else:
        return 0

# Create the 'adopted' column based on the conditions
data['adopted'] = data['outcome_type'].apply(lambda x: map_adopted(x))

print (f"****Columnas despues de la limpieza y trasformacion de datos****")
print(data.head())

# Guarda el DataFrame resultante en un nuevo archivo CSV
data.to_csv('/content/drive/MyDrive/dbcompleta_limpio', index=False)

